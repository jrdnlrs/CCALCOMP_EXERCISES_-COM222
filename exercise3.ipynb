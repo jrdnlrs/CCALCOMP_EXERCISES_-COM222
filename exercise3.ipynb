{
  "nbformat": 4,
  "nbformat_minor": 0,
  "metadata": {
    "colab": {
      "provenance": [],
      "authorship_tag": "ABX9TyMzMF1l4EoxBu4uxGR+8orX",
      "include_colab_link": true
    },
    "kernelspec": {
      "name": "python3",
      "display_name": "Python 3"
    },
    "language_info": {
      "name": "python"
    }
  },
  "cells": [
    {
      "cell_type": "markdown",
      "metadata": {
        "id": "view-in-github",
        "colab_type": "text"
      },
      "source": [
        "<a href=\"https://colab.research.google.com/github/jrdnlrs/CCALCOMP_EXERCISES_-COM222/blob/main/exercise3.ipynb\" target=\"_parent\"><img src=\"https://colab.research.google.com/assets/colab-badge.svg\" alt=\"Open In Colab\"/></a>"
      ]
    },
    {
      "cell_type": "code",
      "execution_count": null,
      "metadata": {
        "id": "0eV_RVVFNCAE"
      },
      "outputs": [],
      "source": [
        "def merge(arr, l, m, r):\n",
        "\tn1 = m - l + 1\n",
        "\tn2 = r - m\n",
        "\n",
        "\t# create temp arrays\n",
        "\tL = [0] * (n1)\n",
        "\tR = [0] * (n2)\n",
        "\n",
        "\t# Copy data to temp arrays L[] and R[]\n",
        "\tfor i in range(0, n1):\n",
        "\t\tL[i] = arr[l + i]\n",
        "\n",
        "\tfor j in range(0, n2):\n",
        "\t\tR[j] = arr[m + 1 + j]\n",
        "\n",
        "\t# Merge the temp arrays back into arr[l..r]\n",
        "\ti = 0\t # Initial index of first subarray\n",
        "\tj = 0\t # Initial index of second subarray\n",
        "\tk = l\t # Initial index of merged subarray\n",
        "\n",
        "\twhile i < n1 and j < n2:\n",
        "\t\tif L[i] <= R[j]:\n",
        "\t\t\tarr[k] = L[i]\n",
        "\t\t\ti += 1\n",
        "\t\telse:\n",
        "\t\t\tarr[k] = R[j]\n",
        "\t\t\tj += 1\n",
        "\t\tk += 1\n",
        "\n",
        "\t# Copy the remaining elements of L[], if there\n",
        "\t# are any\n",
        "\twhile i < n1:\n",
        "\t\tarr[k] = L[i]\n",
        "\t\ti += 1\n",
        "\t\tk += 1\n",
        "\n",
        "\t# Copy the remaining elements of R[], if there\n",
        "\t# are any\n",
        "\twhile j < n2:\n",
        "\t\tarr[k] = R[j]\n",
        "\t\tj += 1\n",
        "\t\tk += 1"
      ]
    },
    {
      "cell_type": "code",
      "source": [
        "def mergeSort(arr, l, r):\n",
        "\tif l < r:\n",
        "\n",
        "\t\t# Same as (l+r)//2, but avoids overflow for\n",
        "\t\t# large l and h\n",
        "\t\tm = l+(r-l)//2\n",
        "\n",
        "\t\t# Sort first and second halves\n",
        "\t\tmergeSort(arr, l, m)\n",
        "\t\tmergeSort(arr, m+1, r)\n",
        "\t\tmerge(arr, l, m, r)"
      ],
      "metadata": {
        "id": "MFrdY66VNR10"
      },
      "execution_count": null,
      "outputs": []
    },
    {
      "cell_type": "code",
      "source": [
        "# Driver code to test above\n",
        "arr = [12, 11, 13, 5, 6, 7]\n",
        "n = len(arr)\n",
        "print(\"Given array is\")\n",
        "for i in range(n):\n",
        "\tprint(\"%d\" % arr[i],end=\" \")\n",
        "\n",
        "mergeSort(arr, 0, n-1)\n",
        "print(\"\\n\\nSorted array is\")\n",
        "for i in range(n):\n",
        "\tprint(\"%d\" % arr[i],end=\" \")"
      ],
      "metadata": {
        "colab": {
          "base_uri": "https://localhost:8080/"
        },
        "id": "939bXECNNT5w",
        "outputId": "e6e9d53c-d9ec-4ada-e5bb-13cead84e9d4"
      },
      "execution_count": null,
      "outputs": [
        {
          "output_type": "stream",
          "name": "stdout",
          "text": [
            "Given array is\n",
            "12 11 13 5 6 7 \n",
            "\n",
            "Sorted array is\n",
            "5 6 7 11 12 13 "
          ]
        }
      ]
    },
    {
      "cell_type": "markdown",
      "source": [
        "Questions:\n",
        "\n",
        "1. Use the recursion tree method to show that the time complexity of the merge-sort algorithm is\n",
        "\n",
        "*O(nlogn)*\n",
        "\n",
        "    Ans: The Merge sort algorithm consists of two main operations: dividing the array into subarrays and merging the sorted subarrays.\n",
        "\n",
        "    Recursion Tree Method: T(n) = 2T (n/2) + O(n)\n",
        "\n",
        "    Level 0: The entire array of n = O(n) Level 1: Two subarrays of n/2 each = O(n) Level 2: Four subarrays of n/4 each = O(n) Level k: 2^k subarrays of n/2^k each = O(n)\n",
        "\n",
        "    The depth of the recursion tree is log2n, as the array is repeatedly divided by 2 until it reach the array size of 1. At each level the total time taken is O(n).\n",
        "\n",
        "    Therefore, the total time complexity is the sum of the total work done at all levels of the Recursion Tree:\n",
        "\n",
        "    ***T(n)=O(n)×log2n=O(nlogn)***\n",
        "\n",
        "\n",
        "2. Use the substitution method to show that the time complexity of the merge-sort algorithm is *O(nlogn)*\n",
        "\n",
        "\n",
        "  Ans: Using the substitution method involves guessing a solution for the recurrence relation and then using mathematical induction to prove it correct.\n",
        "  We can write the recurrence relation for merge sort as:\n",
        "\n",
        "    T(n)=2T(n/2) for some constant c1.\n",
        "\n",
        "  Base Case:\n",
        "\n",
        "  $T(1) = O(1)\n",
        "\n",
        "  Inductive Step: Asumming that the recurrence holds for all k < n:\n",
        "   T(n/2)<cln/2log(n/2)\n",
        "\n",
        "    We need to show that\n",
        "    \n",
        "    T(n)<=cln(logn) :\n",
        "\n",
        "    T(n)= 2t(n/2)+cn\n",
        "    \n",
        "    <=2(cl(n/2)logn(n/2))+cn\n",
        "   \n",
        "    $ = c1n log(n/2) + cn\n",
        "    \n",
        "    $ = c1n (log n - log 2) + cn\n",
        "\n",
        "    = clnlogn - cln + cn\n",
        "\n",
        "    = clnlogn + (c-cl)n\n",
        "    \n",
        "    *Hence by induction, the time complexity\n",
        " is proven as the time complexity of merge sort.*"
      ],
      "metadata": {
        "id": "QKVF1AaVNYht"
      }
    }
  ]
}